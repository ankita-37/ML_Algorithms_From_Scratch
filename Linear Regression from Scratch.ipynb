{
 "cells": [
  {
   "cell_type": "markdown",
   "metadata": {},
   "source": [
    "# Linear Regression from scratch"
   ]
  },
  {
   "cell_type": "code",
   "execution_count": 1,
   "metadata": {},
   "outputs": [],
   "source": [
    "#Importing necessary libraries\n",
    "\n",
    "import numpy as np\n",
    "import pandas as pd\n",
    "import matplotlib.pyplot as plt\n",
    "\n",
    "from sklearn.datasets import make_regression\n",
    "from sklearn.linear_model import LinearRegression\n",
    "from sklearn.model_selection import train_test_split\n",
    "from sklearn.metrics import mean_squared_error"
   ]
  },
  {
   "cell_type": "code",
   "execution_count": 2,
   "metadata": {},
   "outputs": [],
   "source": [
    "# Creating dataset using make_regression\n",
    "X,y= make_regression(n_samples=100, n_features=1,n_targets=1,noise=20,random_state=24)"
   ]
  },
  {
   "cell_type": "code",
   "execution_count": 3,
   "metadata": {},
   "outputs": [],
   "source": [
    "# Splitting training and test data\n",
    "X_train, X_test,y_train,y_test=train_test_split(X,y,train_size=0.75,random_state=24)"
   ]
  },
  {
   "cell_type": "code",
   "execution_count": 4,
   "metadata": {},
   "outputs": [
    {
     "data": {
      "image/png": "[encoded data removed]",
      "text/plain": [
       "<Figure size 432x288 with 1 Axes>"
      ]
     },
     "metadata": {
      "needs_background": "light"
     },
     "output_type": "display_data"
    }
   ],
   "source": [
    "# Visualizing data using matplotlib\n",
    "plt.scatter(X,y)\n",
    "plt.show()"
   ]
  },
  {
   "cell_type": "code",
   "execution_count": 5,
   "metadata": {},
   "outputs": [],
   "source": [
    "# Step 1: Randomly initalize the parameteres for our hypothesis function\n",
    "\n",
    "def param_init(X):\n",
    "    \n",
    "    #Initializing the parameters for Linear Regression Model\n",
    "    params={}\n",
    "    \n",
    "    #Getting the no. of features\n",
    "    _, n_features = X.shape  #Shape of training data\n",
    "    \n",
    "    # X = w*y + b  \n",
    "    #Initilaizing the coefficients(i.e w,b) to zero\n",
    "    params[\"W\"]=np.zeros(n_features)\n",
    "    params[\"b\"]=0\n",
    "    return params"
   ]
  },
  {
   "cell_type": "code",
   "execution_count": 6,
   "metadata": {},
   "outputs": [],
   "source": [
    "# Step 2: Calculate the partial derivatives and then update parameters (until cost function is minimized)\n",
    "          # We will be using \"Gradient Descent\" Algorithm for this purpose\n",
    "    \n",
    "def gradient_descent(X, y, params, alpha, n_iter):\n",
    "    \n",
    "    W=params['W'] # weights\n",
    "    b=params[\"b\"] # biases\n",
    "    m=X.shape[0]  # no. of training instances\n",
    "    \n",
    "    \n",
    "    for _ in range(n_iter):\n",
    "        \n",
    "        #Prediction with random weights \n",
    "        y_pred = np.dot(X,W) + b\n",
    "        \n",
    "        #Taking the partial derivative of the coefficients\n",
    "        dW = (2/m) * np.dot(X.T, (y_pred-y))\n",
    "        db = (2/m) * np.sum(y_pred-y)\n",
    "        W -= alpha * dW\n",
    "        b -= alpha * db\n",
    "        \n",
    "        #Updating the coefficients\n",
    "        params[\"W\"] = W\n",
    "        params[\"b\"] = b\n",
    "        \n",
    "    return params"
   ]
  },
  {
   "cell_type": "code",
   "execution_count": 7,
   "metadata": {},
   "outputs": [],
   "source": [
    "# Step 3: Training our linear regression model \n",
    "\n",
    "def train(X, y, alpha = 0.01, n_iter = 1000):\n",
    "    init_params = param_init(X) #initializing the parameters\n",
    "    params = gradient_descent(X, y, init_params, alpha, n_iter) #Minimising cost function\n",
    "    return params"
   ]
  },
  {
   "cell_type": "code",
   "execution_count": 8,
   "metadata": {},
   "outputs": [],
   "source": [
    "# Step 4: Predict function for inference that uses stored weights\n",
    "\n",
    "def predict(X_test, params):\n",
    "    y_preds = np.dot(X_test, params[\"W\"]) + params[\"b\"]\n",
    "    return y_preds"
   ]
  },
  {
   "cell_type": "code",
   "execution_count": 9,
   "metadata": {},
   "outputs": [
    {
     "data": {
      "image/png": "[encoded data removed]",
      "text/plain": [
       "<Figure size 432x288 with 1 Axes>"
      ]
     },
     "metadata": {
      "needs_background": "light"
     },
     "output_type": "display_data"
    }
   ],
   "source": [
    "# Step 5: Final Implementation\n",
    "\n",
    "params = train(X_train, y_train) #Model_Training\n",
    " \n",
    "y_preds = predict(X_test, params) #Inference\n",
    "\n",
    "#Plotting the graph\n",
    "plt.scatter(X_test, y_test)\n",
    "plt.plot(X_test, y_preds, color=\"red\")\n",
    "plt.title(\"Predictions Dummy Data\")\n",
    "plt.xlabel(\"X axis\")\n",
    "plt.ylabel(\"Y axis\")\n",
    "plt.show()"
   ]
  },
  {
   "cell_type": "code",
   "execution_count": 10,
   "metadata": {},
   "outputs": [
    {
     "name": "stdout",
     "output_type": "stream",
     "text": [
      "From Scratch Implementation : 20.986105292320207 \n",
      "Sklearn Implementation: 20.98610530754737\n"
     ]
    }
   ],
   "source": [
    "# Step 6: Checking the \"RMSE\" of implementation vs Scikit-learn\n",
    "\n",
    "lin_reg = LinearRegression()\n",
    "lin_reg.fit(X_train, y_train)\n",
    "sklearn_y_preds = lin_reg.predict(X_test)\n",
    "\n",
    "print(f\"From Scratch Implementation : {np.sqrt(mean_squared_error(y_test,y_preds))} \\nSklearn Implementation: {np.sqrt(mean_squared_error(y_test, sklearn_y_preds))}\")\n"
   ]
  },
  {
   "cell_type": "markdown",
   "metadata": {},
   "source": [
    "Yay! We got same result :)"
   ]
  },
  {
   "cell_type": "code",
   "execution_count": null,
   "metadata": {},
   "outputs": [],
   "source": []
  }
 ],
 "metadata": {
  "kernelspec": {
   "display_name": "Python 3",
   "language": "python",
   "name": "python3"
  },
  "language_info": {
   "codemirror_mode": {
    "name": "ipython",
    "version": 3
   },
   "file_extension": ".py",
   "mimetype": "text/x-python",
   "name": "python",
   "nbconvert_exporter": "python",
   "pygments_lexer": "ipython3",
   "version": "3.8.5"
  }
 },
 "nbformat": 4,
 "nbformat_minor": 4
}
